{
 "cells": [
  {
   "cell_type": "code",
   "execution_count": 1,
   "metadata": {},
   "outputs": [],
   "source": [
    "# In the exerise, use the dataset function from sklearn called make_blobs\n",
    "# We will implement the basic keras Sequential model"
   ]
  },
  {
   "cell_type": "code",
   "execution_count": 2,
   "metadata": {},
   "outputs": [],
   "source": [
    "from sklearn.datasets import make_blobs\n",
    "import numpy as np\n",
    "import matplotlib.pyplot as plt\n",
    "import os"
   ]
  },
  {
   "cell_type": "code",
   "execution_count": 3,
   "metadata": {},
   "outputs": [],
   "source": [
    "os.environ[\"TF_CPP_MIN_LOG_LEVEL\"] = \"2\""
   ]
  },
  {
   "cell_type": "code",
   "execution_count": 4,
   "metadata": {},
   "outputs": [],
   "source": [
    "def plot_data(pl, x, y):\n",
    "    pl.plot(x[y==0, 0], x[y==0, 1], \"ob\", alpha=0.5)\n",
    "    pl.plot(x[y==1, 0], x[y==1, 1], \"xr\", alpha=0.5)\n",
    "    pl.legend(['0', '1'])\n",
    "    return pl"
   ]
  },
  {
   "cell_type": "code",
   "execution_count": 5,
   "metadata": {},
   "outputs": [],
   "source": [
    "def plot_decision_boundary(model, X, y):\n",
    "\n",
    "    amin, bmin = x.min(axis = 0) - 0.1\n",
    "    amax, bmax = x.max(axis = 0) + 0.1\n",
    "    hticks = np.linspace(amin, amax, 101)\n",
    "    vticks = np.linspace(bmin, bmax, 101)\n",
    "    \n",
    "    aa, bb = np.meshgrid(hticks, vticks, sparse=True)\n",
    "    ab = np.c_[aa.ravel(), bb.ravel()]\n",
    "    \n",
    "    c = model.predict(ab)\n",
    "    Z = c.reshape(aa.shape)\n",
    "    \n",
    "    print(Z.shape)\n",
    "    \n",
    "    plt.figure(figsize=(12, 8))\n",
    "    plt.contourf(aa, bb, Z, cmap='bwr', alpha=0.2)\n",
    "    \n",
    "    plot_data(plt, x, y)\n",
    "\n",
    "    return plt   "
   ]
  },
  {
   "cell_type": "code",
   "execution_count": 6,
   "metadata": {},
   "outputs": [
    {
     "data": {
      "image/png": "[encoded data removed]",
      "text/plain": [
       "<Figure size 432x288 with 1 Axes>"
      ]
     },
     "metadata": {},
     "output_type": "display_data"
    }
   ],
   "source": [
    "x, y = make_blobs(n_samples=1000, centers = 2, random_state=42)\n",
    "\n",
    "pl = plot_data(plt, x, y)\n",
    "pl.show()"
   ]
  },
  {
   "cell_type": "code",
   "execution_count": 7,
   "metadata": {},
   "outputs": [],
   "source": [
    "from sklearn.model_selection import train_test_split\n",
    "x_train, x_test, y_train, y_test = train_test_split(x, y, test_size = 0.3, random_state = 42)"
   ]
  },
  {
   "cell_type": "code",
   "execution_count": 8,
   "metadata": {},
   "outputs": [
    {
     "name": "stderr",
     "output_type": "stream",
     "text": [
      "Using TensorFlow backend.\n"
     ]
    }
   ],
   "source": [
    "from keras.models import Sequential\n",
    "from keras.layers import Dense\n",
    "from keras.optimizers import Adam"
   ]
  },
  {
   "cell_type": "code",
   "execution_count": 9,
   "metadata": {},
   "outputs": [
    {
     "name": "stdout",
     "output_type": "stream",
     "text": [
      "Epoch 1/100\n",
      "700/700 [==============================] - 0s 652us/step - loss: 4.2416 - acc: 0.3686\n",
      "Epoch 2/100\n",
      "700/700 [==============================] - 0s 33us/step - loss: 0.1692 - acc: 0.9529\n",
      "Epoch 3/100\n",
      "700/700 [==============================] - 0s 31us/step - loss: 0.0393 - acc: 0.9986\n",
      "Epoch 4/100\n",
      "700/700 [==============================] - 0s 28us/step - loss: 0.0222 - acc: 1.0000\n",
      "Epoch 5/100\n",
      "700/700 [==============================] - 0s 31us/step - loss: 0.0158 - acc: 1.0000\n",
      "Epoch 6/100\n",
      "700/700 [==============================] - 0s 33us/step - loss: 0.0124 - acc: 1.0000\n",
      "Epoch 7/100\n",
      "700/700 [==============================] - 0s 28us/step - loss: 0.0103 - acc: 1.0000\n",
      "Epoch 8/100\n",
      "700/700 [==============================] - 0s 34us/step - loss: 0.0090 - acc: 1.0000\n",
      "Epoch 9/100\n",
      "700/700 [==============================] - 0s 27us/step - loss: 0.0080 - acc: 1.0000\n",
      "Epoch 10/100\n",
      "700/700 [==============================] - 0s 27us/step - loss: 0.0072 - acc: 1.0000\n",
      "Epoch 11/100\n",
      "700/700 [==============================] - 0s 31us/step - loss: 0.0065 - acc: 1.0000\n",
      "Epoch 12/100\n",
      "700/700 [==============================] - 0s 31us/step - loss: 0.0060 - acc: 1.0000\n",
      "Epoch 13/100\n",
      "700/700 [==============================] - 0s 27us/step - loss: 0.0055 - acc: 1.0000\n",
      "Epoch 14/100\n",
      "700/700 [==============================] - 0s 31us/step - loss: 0.0051 - acc: 1.0000\n",
      "Epoch 15/100\n",
      "700/700 [==============================] - 0s 29us/step - loss: 0.0048 - acc: 1.0000\n",
      "Epoch 16/100\n",
      "700/700 [==============================] - 0s 27us/step - loss: 0.0045 - acc: 1.0000\n",
      "Epoch 17/100\n",
      "700/700 [==============================] - 0s 28us/step - loss: 0.0042 - acc: 1.0000\n",
      "Epoch 18/100\n",
      "700/700 [==============================] - 0s 26us/step - loss: 0.0040 - acc: 1.0000\n",
      "Epoch 19/100\n",
      "700/700 [==============================] - 0s 27us/step - loss: 0.0037 - acc: 1.0000\n",
      "Epoch 20/100\n",
      "700/700 [==============================] - 0s 30us/step - loss: 0.0035 - acc: 1.0000\n",
      "Epoch 21/100\n",
      "700/700 [==============================] - 0s 26us/step - loss: 0.0033 - acc: 1.0000\n",
      "Epoch 22/100\n",
      "700/700 [==============================] - 0s 26us/step - loss: 0.0032 - acc: 1.0000\n",
      "Epoch 23/100\n",
      "700/700 [==============================] - 0s 28us/step - loss: 0.0030 - acc: 1.0000\n",
      "Epoch 24/100\n",
      "700/700 [==============================] - 0s 30us/step - loss: 0.0029 - acc: 1.0000\n",
      "Epoch 25/100\n",
      "700/700 [==============================] - 0s 30us/step - loss: 0.0027 - acc: 1.0000\n",
      "Epoch 26/100\n",
      "700/700 [==============================] - 0s 28us/step - loss: 0.0026 - acc: 1.0000\n",
      "Epoch 27/100\n",
      "700/700 [==============================] - 0s 28us/step - loss: 0.0025 - acc: 1.0000\n",
      "Epoch 28/100\n",
      "700/700 [==============================] - 0s 27us/step - loss: 0.0024 - acc: 1.0000\n",
      "Epoch 29/100\n",
      "700/700 [==============================] - 0s 27us/step - loss: 0.0023 - acc: 1.0000\n",
      "Epoch 30/100\n",
      "700/700 [==============================] - 0s 28us/step - loss: 0.0022 - acc: 1.0000\n",
      "Epoch 31/100\n",
      "700/700 [==============================] - 0s 26us/step - loss: 0.0021 - acc: 1.0000\n",
      "Epoch 32/100\n",
      "700/700 [==============================] - 0s 27us/step - loss: 0.0020 - acc: 1.0000\n",
      "Epoch 33/100\n",
      "700/700 [==============================] - 0s 27us/step - loss: 0.0020 - acc: 1.0000\n",
      "Epoch 34/100\n",
      "700/700 [==============================] - 0s 28us/step - loss: 0.0019 - acc: 1.0000\n",
      "Epoch 35/100\n",
      "700/700 [==============================] - 0s 27us/step - loss: 0.0018 - acc: 1.0000\n",
      "Epoch 36/100\n",
      "700/700 [==============================] - 0s 27us/step - loss: 0.0018 - acc: 1.0000\n",
      "Epoch 37/100\n",
      "700/700 [==============================] - 0s 26us/step - loss: 0.0017 - acc: 1.0000\n",
      "Epoch 38/100\n",
      "700/700 [==============================] - 0s 28us/step - loss: 0.0017 - acc: 1.0000\n",
      "Epoch 39/100\n",
      "700/700 [==============================] - 0s 30us/step - loss: 0.0016 - acc: 1.0000\n",
      "Epoch 40/100\n",
      "700/700 [==============================] - 0s 27us/step - loss: 0.0016 - acc: 1.0000\n",
      "Epoch 41/100\n",
      "700/700 [==============================] - 0s 26us/step - loss: 0.0015 - acc: 1.0000\n",
      "Epoch 42/100\n",
      "700/700 [==============================] - 0s 24us/step - loss: 0.0015 - acc: 1.0000\n",
      "Epoch 43/100\n",
      "700/700 [==============================] - 0s 28us/step - loss: 0.0014 - acc: 1.0000\n",
      "Epoch 44/100\n",
      "700/700 [==============================] - 0s 27us/step - loss: 0.0014 - acc: 1.0000\n",
      "Epoch 45/100\n",
      "700/700 [==============================] - 0s 26us/step - loss: 0.0013 - acc: 1.0000\n",
      "Epoch 46/100\n",
      "700/700 [==============================] - 0s 27us/step - loss: 0.0013 - acc: 1.0000\n",
      "Epoch 47/100\n",
      "700/700 [==============================] - 0s 26us/step - loss: 0.0013 - acc: 1.0000\n",
      "Epoch 48/100\n",
      "700/700 [==============================] - 0s 28us/step - loss: 0.0012 - acc: 1.0000\n",
      "Epoch 49/100\n",
      "700/700 [==============================] - 0s 27us/step - loss: 0.0012 - acc: 1.0000\n",
      "Epoch 50/100\n",
      "700/700 [==============================] - 0s 26us/step - loss: 0.0012 - acc: 1.0000\n",
      "Epoch 51/100\n",
      "700/700 [==============================] - 0s 24us/step - loss: 0.0011 - acc: 1.0000\n",
      "Epoch 52/100\n",
      "700/700 [==============================] - 0s 29us/step - loss: 0.0011 - acc: 1.0000\n",
      "Epoch 53/100\n",
      "700/700 [==============================] - 0s 26us/step - loss: 0.0011 - acc: 1.0000\n",
      "Epoch 54/100\n",
      "700/700 [==============================] - 0s 27us/step - loss: 0.0010 - acc: 1.0000\n",
      "Epoch 55/100\n",
      "700/700 [==============================] - 0s 26us/step - loss: 0.0010 - acc: 1.0000\n",
      "Epoch 56/100\n",
      "700/700 [==============================] - 0s 27us/step - loss: 0.0010 - acc: 1.0000\n",
      "Epoch 57/100\n",
      "700/700 [==============================] - 0s 27us/step - loss: 9.7628e-04 - acc: 1.0000\n",
      "Epoch 58/100\n",
      "700/700 [==============================] - 0s 27us/step - loss: 9.5236e-04 - acc: 1.0000\n",
      "Epoch 59/100\n",
      "700/700 [==============================] - 0s 27us/step - loss: 9.3142e-04 - acc: 1.0000\n",
      "Epoch 60/100\n",
      "700/700 [==============================] - 0s 27us/step - loss: 9.0966e-04 - acc: 1.0000\n",
      "Epoch 61/100\n",
      "700/700 [==============================] - 0s 29us/step - loss: 8.8915e-04 - acc: 1.0000\n",
      "Epoch 62/100\n",
      "700/700 [==============================] - 0s 26us/step - loss: 8.6999e-04 - acc: 1.0000\n",
      "Epoch 63/100\n",
      "700/700 [==============================] - 0s 27us/step - loss: 8.5140e-04 - acc: 1.0000\n",
      "Epoch 64/100\n",
      "700/700 [==============================] - 0s 26us/step - loss: 8.3155e-04 - acc: 1.0000\n",
      "Epoch 65/100\n",
      "700/700 [==============================] - 0s 27us/step - loss: 8.1412e-04 - acc: 1.0000\n",
      "Epoch 66/100\n",
      "700/700 [==============================] - 0s 26us/step - loss: 7.9712e-04 - acc: 1.0000\n",
      "Epoch 67/100\n",
      "700/700 [==============================] - 0s 28us/step - loss: 7.8043e-04 - acc: 1.0000\n",
      "Epoch 68/100\n",
      "700/700 [==============================] - 0s 26us/step - loss: 7.6341e-04 - acc: 1.0000\n",
      "Epoch 69/100\n",
      "700/700 [==============================] - 0s 27us/step - loss: 7.4934e-04 - acc: 1.0000\n",
      "Epoch 70/100\n",
      "700/700 [==============================] - 0s 26us/step - loss: 7.3363e-04 - acc: 1.0000\n",
      "Epoch 71/100\n",
      "700/700 [==============================] - 0s 26us/step - loss: 7.1851e-04 - acc: 1.0000\n",
      "Epoch 72/100\n",
      "700/700 [==============================] - 0s 30us/step - loss: 7.0409e-04 - acc: 1.0000\n",
      "Epoch 73/100\n",
      "700/700 [==============================] - 0s 27us/step - loss: 6.9013e-04 - acc: 1.0000\n",
      "Epoch 74/100\n",
      "700/700 [==============================] - 0s 26us/step - loss: 6.7681e-04 - acc: 1.0000\n",
      "Epoch 75/100\n",
      "700/700 [==============================] - 0s 26us/step - loss: 6.6441e-04 - acc: 1.0000\n",
      "Epoch 76/100\n",
      "700/700 [==============================] - 0s 26us/step - loss: 6.5231e-04 - acc: 1.0000\n",
      "Epoch 77/100\n",
      "700/700 [==============================] - 0s 26us/step - loss: 6.3869e-04 - acc: 1.0000\n",
      "Epoch 78/100\n",
      "700/700 [==============================] - 0s 27us/step - loss: 6.2677e-04 - acc: 1.0000\n",
      "Epoch 79/100\n",
      "700/700 [==============================] - 0s 28us/step - loss: 6.1582e-04 - acc: 1.0000\n",
      "Epoch 80/100\n",
      "700/700 [==============================] - 0s 26us/step - loss: 6.0434e-04 - acc: 1.0000\n",
      "Epoch 81/100\n",
      "700/700 [==============================] - 0s 27us/step - loss: 5.9320e-04 - acc: 1.0000\n",
      "Epoch 82/100\n",
      "700/700 [==============================] - 0s 23us/step - loss: 5.8242e-04 - acc: 1.0000\n",
      "Epoch 83/100\n"
     ]
    },
    {
     "name": "stdout",
     "output_type": "stream",
     "text": [
      "700/700 [==============================] - 0s 26us/step - loss: 5.7182e-04 - acc: 1.0000\n",
      "Epoch 84/100\n",
      "700/700 [==============================] - 0s 24us/step - loss: 5.6169e-04 - acc: 1.0000\n",
      "Epoch 85/100\n",
      "700/700 [==============================] - 0s 24us/step - loss: 5.5152e-04 - acc: 1.0000\n",
      "Epoch 86/100\n",
      "700/700 [==============================] - 0s 34us/step - loss: 5.4190e-04 - acc: 1.0000\n",
      "Epoch 87/100\n",
      "700/700 [==============================] - 0s 26us/step - loss: 5.3275e-04 - acc: 1.0000\n",
      "Epoch 88/100\n",
      "700/700 [==============================] - 0s 26us/step - loss: 5.2424e-04 - acc: 1.0000\n",
      "Epoch 89/100\n",
      "700/700 [==============================] - 0s 26us/step - loss: 5.1439e-04 - acc: 1.0000\n",
      "Epoch 90/100\n",
      "700/700 [==============================] - 0s 24us/step - loss: 5.0550e-04 - acc: 1.0000\n",
      "Epoch 91/100\n",
      "700/700 [==============================] - 0s 24us/step - loss: 4.9734e-04 - acc: 1.0000\n",
      "Epoch 92/100\n",
      "700/700 [==============================] - 0s 26us/step - loss: 4.8968e-04 - acc: 1.0000\n",
      "Epoch 93/100\n",
      "700/700 [==============================] - 0s 24us/step - loss: 4.8096e-04 - acc: 1.0000\n",
      "Epoch 94/100\n",
      "700/700 [==============================] - 0s 26us/step - loss: 4.7330e-04 - acc: 1.0000\n",
      "Epoch 95/100\n",
      "700/700 [==============================] - 0s 26us/step - loss: 4.6544e-04 - acc: 1.0000\n",
      "Epoch 96/100\n",
      "700/700 [==============================] - 0s 24us/step - loss: 4.5803e-04 - acc: 1.0000\n",
      "Epoch 97/100\n",
      "700/700 [==============================] - 0s 27us/step - loss: 4.5024e-04 - acc: 1.0000\n",
      "Epoch 98/100\n",
      "700/700 [==============================] - 0s 26us/step - loss: 4.4321e-04 - acc: 1.0000\n",
      "Epoch 99/100\n",
      "700/700 [==============================] - 0s 23us/step - loss: 4.3592e-04 - acc: 1.0000\n",
      "Epoch 100/100\n",
      "700/700 [==============================] - 0s 24us/step - loss: 4.2919e-04 - acc: 1.0000\n"
     ]
    },
    {
     "data": {
      "text/plain": [
       "<keras.callbacks.History at 0x233e640a6a0>"
      ]
     },
     "execution_count": 9,
     "metadata": {},
     "output_type": "execute_result"
    }
   ],
   "source": [
    "model = Sequential()\n",
    "model.add(Dense(1,input_shape=(2,), activation = \"sigmoid\"))\n",
    "model.compile(Adam(lr=0.05), 'binary_crossentropy', metrics=['accuracy'])\n",
    "model.fit(x_train, y_train, epochs = 100, verbose = 1)"
   ]
  },
  {
   "cell_type": "code",
   "execution_count": 10,
   "metadata": {},
   "outputs": [
    {
     "name": "stdout",
     "output_type": "stream",
     "text": [
      "300/300 [==============================] - 0s 110us/step\n",
      "\n",
      "\n",
      "Test loss: 0.00014679804589832202 Test accuracy: 1.0\n"
     ]
    },
    {
     "ename": "TypeError",
     "evalue": "Input z must be at least a 2x2 array.",
     "output_type": "error",
     "traceback": [
      "\u001b[1;31m---------------------------------------------------------------------------\u001b[0m",
      "\u001b[1;31mTypeError\u001b[0m                                 Traceback (most recent call last)",
      "\u001b[1;32m<ipython-input-10-404c60b81995>\u001b[0m in \u001b[0;36m<module>\u001b[1;34m()\u001b[0m\n\u001b[0;32m      2\u001b[0m \u001b[0mprint\u001b[0m\u001b[1;33m(\u001b[0m\u001b[1;34m\"\\n\\nTest loss:\"\u001b[0m\u001b[1;33m,\u001b[0m \u001b[0meval_result\u001b[0m\u001b[1;33m[\u001b[0m\u001b[1;36m0\u001b[0m\u001b[1;33m]\u001b[0m\u001b[1;33m,\u001b[0m \u001b[1;34m\"Test accuracy:\"\u001b[0m\u001b[1;33m,\u001b[0m \u001b[0meval_result\u001b[0m\u001b[1;33m[\u001b[0m\u001b[1;36m1\u001b[0m\u001b[1;33m]\u001b[0m\u001b[1;33m)\u001b[0m\u001b[1;33m\u001b[0m\u001b[0m\n\u001b[0;32m      3\u001b[0m \u001b[1;31m#   Plot the decision boundary\u001b[0m\u001b[1;33m\u001b[0m\u001b[1;33m\u001b[0m\u001b[0m\n\u001b[1;32m----> 4\u001b[1;33m \u001b[0mplot_decision_boundary\u001b[0m\u001b[1;33m(\u001b[0m\u001b[0mmodel\u001b[0m\u001b[1;33m,\u001b[0m \u001b[0mx\u001b[0m\u001b[1;33m,\u001b[0m \u001b[0my\u001b[0m\u001b[1;33m)\u001b[0m\u001b[1;33m.\u001b[0m\u001b[0mshow\u001b[0m\u001b[1;33m(\u001b[0m\u001b[1;33m)\u001b[0m\u001b[1;33m\u001b[0m\u001b[0m\n\u001b[0m",
      "\u001b[1;32m<ipython-input-5-94638115e8a0>\u001b[0m in \u001b[0;36mplot_decision_boundary\u001b[1;34m(model, X, y)\u001b[0m\n\u001b[0;32m     13\u001b[0m \u001b[1;33m\u001b[0m\u001b[0m\n\u001b[0;32m     14\u001b[0m     \u001b[0mplt\u001b[0m\u001b[1;33m.\u001b[0m\u001b[0mfigure\u001b[0m\u001b[1;33m(\u001b[0m\u001b[0mfigsize\u001b[0m\u001b[1;33m=\u001b[0m\u001b[1;33m(\u001b[0m\u001b[1;36m12\u001b[0m\u001b[1;33m,\u001b[0m \u001b[1;36m8\u001b[0m\u001b[1;33m)\u001b[0m\u001b[1;33m)\u001b[0m\u001b[1;33m\u001b[0m\u001b[0m\n\u001b[1;32m---> 15\u001b[1;33m     \u001b[0mplt\u001b[0m\u001b[1;33m.\u001b[0m\u001b[0mcontourf\u001b[0m\u001b[1;33m(\u001b[0m\u001b[0maa\u001b[0m\u001b[1;33m,\u001b[0m \u001b[0mbb\u001b[0m\u001b[1;33m,\u001b[0m \u001b[0mZ\u001b[0m\u001b[1;33m,\u001b[0m \u001b[0mcmap\u001b[0m\u001b[1;33m=\u001b[0m\u001b[1;34m'bwr'\u001b[0m\u001b[1;33m,\u001b[0m \u001b[0malpha\u001b[0m\u001b[1;33m=\u001b[0m\u001b[1;36m0.2\u001b[0m\u001b[1;33m)\u001b[0m\u001b[1;33m\u001b[0m\u001b[0m\n\u001b[0m\u001b[0;32m     16\u001b[0m \u001b[1;33m\u001b[0m\u001b[0m\n\u001b[0;32m     17\u001b[0m     \u001b[0mplot_data\u001b[0m\u001b[1;33m(\u001b[0m\u001b[0mplt\u001b[0m\u001b[1;33m,\u001b[0m \u001b[0mx\u001b[0m\u001b[1;33m,\u001b[0m \u001b[0my\u001b[0m\u001b[1;33m)\u001b[0m\u001b[1;33m\u001b[0m\u001b[0m\n",
      "\u001b[1;32mD:\\Anaconda2\\envs\\py3.6\\lib\\site-packages\\matplotlib\\pyplot.py\u001b[0m in \u001b[0;36mcontourf\u001b[1;34m(*args, **kwargs)\u001b[0m\n\u001b[0;32m   2931\u001b[0m                       mplDeprecation)\n\u001b[0;32m   2932\u001b[0m     \u001b[1;32mtry\u001b[0m\u001b[1;33m:\u001b[0m\u001b[1;33m\u001b[0m\u001b[0m\n\u001b[1;32m-> 2933\u001b[1;33m         \u001b[0mret\u001b[0m \u001b[1;33m=\u001b[0m \u001b[0max\u001b[0m\u001b[1;33m.\u001b[0m\u001b[0mcontourf\u001b[0m\u001b[1;33m(\u001b[0m\u001b[1;33m*\u001b[0m\u001b[0margs\u001b[0m\u001b[1;33m,\u001b[0m \u001b[1;33m**\u001b[0m\u001b[0mkwargs\u001b[0m\u001b[1;33m)\u001b[0m\u001b[1;33m\u001b[0m\u001b[0m\n\u001b[0m\u001b[0;32m   2934\u001b[0m     \u001b[1;32mfinally\u001b[0m\u001b[1;33m:\u001b[0m\u001b[1;33m\u001b[0m\u001b[0m\n\u001b[0;32m   2935\u001b[0m         \u001b[0max\u001b[0m\u001b[1;33m.\u001b[0m\u001b[0m_hold\u001b[0m \u001b[1;33m=\u001b[0m \u001b[0mwashold\u001b[0m\u001b[1;33m\u001b[0m\u001b[0m\n",
      "\u001b[1;32mD:\\Anaconda2\\envs\\py3.6\\lib\\site-packages\\matplotlib\\__init__.py\u001b[0m in \u001b[0;36minner\u001b[1;34m(ax, *args, **kwargs)\u001b[0m\n\u001b[0;32m   1853\u001b[0m                         \u001b[1;34m\"the Matplotlib list!)\"\u001b[0m \u001b[1;33m%\u001b[0m \u001b[1;33m(\u001b[0m\u001b[0mlabel_namer\u001b[0m\u001b[1;33m,\u001b[0m \u001b[0mfunc\u001b[0m\u001b[1;33m.\u001b[0m\u001b[0m__name__\u001b[0m\u001b[1;33m)\u001b[0m\u001b[1;33m,\u001b[0m\u001b[1;33m\u001b[0m\u001b[0m\n\u001b[0;32m   1854\u001b[0m                         RuntimeWarning, stacklevel=2)\n\u001b[1;32m-> 1855\u001b[1;33m             \u001b[1;32mreturn\u001b[0m \u001b[0mfunc\u001b[0m\u001b[1;33m(\u001b[0m\u001b[0max\u001b[0m\u001b[1;33m,\u001b[0m \u001b[1;33m*\u001b[0m\u001b[0margs\u001b[0m\u001b[1;33m,\u001b[0m \u001b[1;33m**\u001b[0m\u001b[0mkwargs\u001b[0m\u001b[1;33m)\u001b[0m\u001b[1;33m\u001b[0m\u001b[0m\n\u001b[0m\u001b[0;32m   1856\u001b[0m \u001b[1;33m\u001b[0m\u001b[0m\n\u001b[0;32m   1857\u001b[0m         inner.__doc__ = _add_data_doc(inner.__doc__,\n",
      "\u001b[1;32mD:\\Anaconda2\\envs\\py3.6\\lib\\site-packages\\matplotlib\\axes\\_axes.py\u001b[0m in \u001b[0;36mcontourf\u001b[1;34m(self, *args, **kwargs)\u001b[0m\n\u001b[0;32m   6179\u001b[0m             \u001b[0mself\u001b[0m\u001b[1;33m.\u001b[0m\u001b[0mcla\u001b[0m\u001b[1;33m(\u001b[0m\u001b[1;33m)\u001b[0m\u001b[1;33m\u001b[0m\u001b[0m\n\u001b[0;32m   6180\u001b[0m         \u001b[0mkwargs\u001b[0m\u001b[1;33m[\u001b[0m\u001b[1;34m'filled'\u001b[0m\u001b[1;33m]\u001b[0m \u001b[1;33m=\u001b[0m \u001b[1;32mTrue\u001b[0m\u001b[1;33m\u001b[0m\u001b[0m\n\u001b[1;32m-> 6181\u001b[1;33m         \u001b[0mcontours\u001b[0m \u001b[1;33m=\u001b[0m \u001b[0mmcontour\u001b[0m\u001b[1;33m.\u001b[0m\u001b[0mQuadContourSet\u001b[0m\u001b[1;33m(\u001b[0m\u001b[0mself\u001b[0m\u001b[1;33m,\u001b[0m \u001b[1;33m*\u001b[0m\u001b[0margs\u001b[0m\u001b[1;33m,\u001b[0m \u001b[1;33m**\u001b[0m\u001b[0mkwargs\u001b[0m\u001b[1;33m)\u001b[0m\u001b[1;33m\u001b[0m\u001b[0m\n\u001b[0m\u001b[0;32m   6182\u001b[0m         \u001b[0mself\u001b[0m\u001b[1;33m.\u001b[0m\u001b[0mautoscale_view\u001b[0m\u001b[1;33m(\u001b[0m\u001b[1;33m)\u001b[0m\u001b[1;33m\u001b[0m\u001b[0m\n\u001b[0;32m   6183\u001b[0m         \u001b[1;32mreturn\u001b[0m \u001b[0mcontours\u001b[0m\u001b[1;33m\u001b[0m\u001b[0m\n",
      "\u001b[1;32mD:\\Anaconda2\\envs\\py3.6\\lib\\site-packages\\matplotlib\\contour.py\u001b[0m in \u001b[0;36m__init__\u001b[1;34m(self, ax, *args, **kwargs)\u001b[0m\n\u001b[0;32m    844\u001b[0m         \u001b[0mself\u001b[0m\u001b[1;33m.\u001b[0m\u001b[0m_transform\u001b[0m \u001b[1;33m=\u001b[0m \u001b[0mkwargs\u001b[0m\u001b[1;33m.\u001b[0m\u001b[0mpop\u001b[0m\u001b[1;33m(\u001b[0m\u001b[1;34m'transform'\u001b[0m\u001b[1;33m,\u001b[0m \u001b[1;32mNone\u001b[0m\u001b[1;33m)\u001b[0m\u001b[1;33m\u001b[0m\u001b[0m\n\u001b[0;32m    845\u001b[0m \u001b[1;33m\u001b[0m\u001b[0m\n\u001b[1;32m--> 846\u001b[1;33m         \u001b[0mkwargs\u001b[0m \u001b[1;33m=\u001b[0m \u001b[0mself\u001b[0m\u001b[1;33m.\u001b[0m\u001b[0m_process_args\u001b[0m\u001b[1;33m(\u001b[0m\u001b[1;33m*\u001b[0m\u001b[0margs\u001b[0m\u001b[1;33m,\u001b[0m \u001b[1;33m**\u001b[0m\u001b[0mkwargs\u001b[0m\u001b[1;33m)\u001b[0m\u001b[1;33m\u001b[0m\u001b[0m\n\u001b[0m\u001b[0;32m    847\u001b[0m         \u001b[0mself\u001b[0m\u001b[1;33m.\u001b[0m\u001b[0m_process_levels\u001b[0m\u001b[1;33m(\u001b[0m\u001b[1;33m)\u001b[0m\u001b[1;33m\u001b[0m\u001b[0m\n\u001b[0;32m    848\u001b[0m \u001b[1;33m\u001b[0m\u001b[0m\n",
      "\u001b[1;32mD:\\Anaconda2\\envs\\py3.6\\lib\\site-packages\\matplotlib\\contour.py\u001b[0m in \u001b[0;36m_process_args\u001b[1;34m(self, *args, **kwargs)\u001b[0m\n\u001b[0;32m   1414\u001b[0m                 \u001b[0mself\u001b[0m\u001b[1;33m.\u001b[0m\u001b[0m_corner_mask\u001b[0m \u001b[1;33m=\u001b[0m \u001b[0mmpl\u001b[0m\u001b[1;33m.\u001b[0m\u001b[0mrcParams\u001b[0m\u001b[1;33m[\u001b[0m\u001b[1;34m'contour.corner_mask'\u001b[0m\u001b[1;33m]\u001b[0m\u001b[1;33m\u001b[0m\u001b[0m\n\u001b[0;32m   1415\u001b[0m \u001b[1;33m\u001b[0m\u001b[0m\n\u001b[1;32m-> 1416\u001b[1;33m             \u001b[0mx\u001b[0m\u001b[1;33m,\u001b[0m \u001b[0my\u001b[0m\u001b[1;33m,\u001b[0m \u001b[0mz\u001b[0m \u001b[1;33m=\u001b[0m \u001b[0mself\u001b[0m\u001b[1;33m.\u001b[0m\u001b[0m_contour_args\u001b[0m\u001b[1;33m(\u001b[0m\u001b[0margs\u001b[0m\u001b[1;33m,\u001b[0m \u001b[0mkwargs\u001b[0m\u001b[1;33m)\u001b[0m\u001b[1;33m\u001b[0m\u001b[0m\n\u001b[0m\u001b[0;32m   1417\u001b[0m \u001b[1;33m\u001b[0m\u001b[0m\n\u001b[0;32m   1418\u001b[0m             \u001b[0m_mask\u001b[0m \u001b[1;33m=\u001b[0m \u001b[0mma\u001b[0m\u001b[1;33m.\u001b[0m\u001b[0mgetmask\u001b[0m\u001b[1;33m(\u001b[0m\u001b[0mz\u001b[0m\u001b[1;33m)\u001b[0m\u001b[1;33m\u001b[0m\u001b[0m\n",
      "\u001b[1;32mD:\\Anaconda2\\envs\\py3.6\\lib\\site-packages\\matplotlib\\contour.py\u001b[0m in \u001b[0;36m_contour_args\u001b[1;34m(self, args, kwargs)\u001b[0m\n\u001b[0;32m   1472\u001b[0m             \u001b[0margs\u001b[0m \u001b[1;33m=\u001b[0m \u001b[0margs\u001b[0m\u001b[1;33m[\u001b[0m\u001b[1;36m1\u001b[0m\u001b[1;33m:\u001b[0m\u001b[1;33m]\u001b[0m\u001b[1;33m\u001b[0m\u001b[0m\n\u001b[0;32m   1473\u001b[0m         \u001b[1;32melif\u001b[0m \u001b[0mNargs\u001b[0m \u001b[1;33m<=\u001b[0m \u001b[1;36m4\u001b[0m\u001b[1;33m:\u001b[0m\u001b[1;33m\u001b[0m\u001b[0m\n\u001b[1;32m-> 1474\u001b[1;33m             \u001b[0mx\u001b[0m\u001b[1;33m,\u001b[0m \u001b[0my\u001b[0m\u001b[1;33m,\u001b[0m \u001b[0mz\u001b[0m \u001b[1;33m=\u001b[0m \u001b[0mself\u001b[0m\u001b[1;33m.\u001b[0m\u001b[0m_check_xyz\u001b[0m\u001b[1;33m(\u001b[0m\u001b[0margs\u001b[0m\u001b[1;33m[\u001b[0m\u001b[1;33m:\u001b[0m\u001b[1;36m3\u001b[0m\u001b[1;33m]\u001b[0m\u001b[1;33m,\u001b[0m \u001b[0mkwargs\u001b[0m\u001b[1;33m)\u001b[0m\u001b[1;33m\u001b[0m\u001b[0m\n\u001b[0m\u001b[0;32m   1475\u001b[0m             \u001b[0margs\u001b[0m \u001b[1;33m=\u001b[0m \u001b[0margs\u001b[0m\u001b[1;33m[\u001b[0m\u001b[1;36m3\u001b[0m\u001b[1;33m:\u001b[0m\u001b[1;33m]\u001b[0m\u001b[1;33m\u001b[0m\u001b[0m\n\u001b[0;32m   1476\u001b[0m         \u001b[1;32melse\u001b[0m\u001b[1;33m:\u001b[0m\u001b[1;33m\u001b[0m\u001b[0m\n",
      "\u001b[1;32mD:\\Anaconda2\\envs\\py3.6\\lib\\site-packages\\matplotlib\\contour.py\u001b[0m in \u001b[0;36m_check_xyz\u001b[1;34m(self, args, kwargs)\u001b[0m\n\u001b[0;32m   1508\u001b[0m             \u001b[1;32mraise\u001b[0m \u001b[0mTypeError\u001b[0m\u001b[1;33m(\u001b[0m\u001b[1;34m\"Input z must be a 2D array.\"\u001b[0m\u001b[1;33m)\u001b[0m\u001b[1;33m\u001b[0m\u001b[0m\n\u001b[0;32m   1509\u001b[0m         \u001b[1;32melif\u001b[0m \u001b[0mz\u001b[0m\u001b[1;33m.\u001b[0m\u001b[0mshape\u001b[0m\u001b[1;33m[\u001b[0m\u001b[1;36m0\u001b[0m\u001b[1;33m]\u001b[0m \u001b[1;33m<\u001b[0m \u001b[1;36m2\u001b[0m \u001b[1;32mor\u001b[0m \u001b[0mz\u001b[0m\u001b[1;33m.\u001b[0m\u001b[0mshape\u001b[0m\u001b[1;33m[\u001b[0m\u001b[1;36m1\u001b[0m\u001b[1;33m]\u001b[0m \u001b[1;33m<\u001b[0m \u001b[1;36m2\u001b[0m\u001b[1;33m:\u001b[0m\u001b[1;33m\u001b[0m\u001b[0m\n\u001b[1;32m-> 1510\u001b[1;33m             \u001b[1;32mraise\u001b[0m \u001b[0mTypeError\u001b[0m\u001b[1;33m(\u001b[0m\u001b[1;34m\"Input z must be at least a 2x2 array.\"\u001b[0m\u001b[1;33m)\u001b[0m\u001b[1;33m\u001b[0m\u001b[0m\n\u001b[0m\u001b[0;32m   1511\u001b[0m         \u001b[1;32melse\u001b[0m\u001b[1;33m:\u001b[0m\u001b[1;33m\u001b[0m\u001b[0m\n\u001b[0;32m   1512\u001b[0m             \u001b[0mNy\u001b[0m\u001b[1;33m,\u001b[0m \u001b[0mNx\u001b[0m \u001b[1;33m=\u001b[0m \u001b[0mz\u001b[0m\u001b[1;33m.\u001b[0m\u001b[0mshape\u001b[0m\u001b[1;33m\u001b[0m\u001b[0m\n",
      "\u001b[1;31mTypeError\u001b[0m: Input z must be at least a 2x2 array."
     ]
    },
    {
     "data": {
      "image/png": "[encoded data removed]",
      "text/plain": [
       "<Figure size 864x576 with 1 Axes>"
      ]
     },
     "metadata": {},
     "output_type": "display_data"
    }
   ],
   "source": [
    "eval_result = model.evaluate(x_test, y_test)\n",
    "print(\"\\n\\nTest loss:\", eval_result[0], \"Test accuracy:\", eval_result[1])\n",
    "#   Plot the decision boundary\n",
    "plot_decision_boundary(model, x, y).show()"
   ]
  },
  {
   "cell_type": "code",
   "execution_count": 29,
   "metadata": {},
   "outputs": [
    {
     "data": {
      "text/plain": [
       "array([[ 0.25845504, -0.80029786],\n",
       "       [-0.02326991,  1.04483389],\n",
       "       [-0.34552262, -0.13659901],\n",
       "       [ 0.75402744,  0.21484543],\n",
       "       [ 1.35328934, -0.9606779 ],\n",
       "       [ 0.56214247,  0.76735528],\n",
       "       [-0.74037421,  0.39217274],\n",
       "       [-0.27154832,  0.6030754 ],\n",
       "       [ 0.3393607 , -1.11949655],\n",
       "       [ 0.05354046,  0.4677448 ]])"
      ]
     },
     "execution_count": 29,
     "metadata": {},
     "output_type": "execute_result"
    }
   ],
   "source": [
    "test_x  =np.random.randn(10,2)\n",
    "test_x"
   ]
  },
  {
   "cell_type": "code",
   "execution_count": 32,
   "metadata": {},
   "outputs": [],
   "source": [
    "amin, bmin = test_x.min(axis=0)\n",
    "amax, bmax = test_x.max(axis=0)"
   ]
  },
  {
   "cell_type": "code",
   "execution_count": 34,
   "metadata": {},
   "outputs": [
    {
     "name": "stdout",
     "output_type": "stream",
     "text": [
      "-0.7403742108236557\n",
      "-1.1194965484932613\n",
      "1.3532893449325893\n",
      "1.044833890612079\n"
     ]
    }
   ],
   "source": [
    "print(amin)\n",
    "print(bmin)\n",
    "print(amax)\n",
    "print(bmax)"
   ]
  },
  {
   "cell_type": "code",
   "execution_count": 37,
   "metadata": {},
   "outputs": [],
   "source": [
    "hticks = np.linspace(amin, amax, 10)\n",
    "vticks = np.linspace(bmin, bmax, 10)"
   ]
  },
  {
   "cell_type": "code",
   "execution_count": 38,
   "metadata": {},
   "outputs": [
    {
     "data": {
      "text/plain": [
       "array([-0.74037421, -0.50774493, -0.27511564, -0.04248636,  0.19014293,\n",
       "        0.42277221,  0.65540149,  0.88803078,  1.12066006,  1.35328934])"
      ]
     },
     "execution_count": 38,
     "metadata": {},
     "output_type": "execute_result"
    }
   ],
   "source": [
    "hticks"
   ]
  },
  {
   "cell_type": "code",
   "execution_count": 39,
   "metadata": {},
   "outputs": [
    {
     "data": {
      "text/plain": [
       "array([-1.11949655, -0.87901539, -0.63853423, -0.39805307, -0.15757191,\n",
       "        0.08290925,  0.32339041,  0.56387157,  0.80435273,  1.04483389])"
      ]
     },
     "execution_count": 39,
     "metadata": {},
     "output_type": "execute_result"
    }
   ],
   "source": [
    "vticks"
   ]
  },
  {
   "cell_type": "code",
   "execution_count": 70,
   "metadata": {},
   "outputs": [],
   "source": [
    "aa, bb = np.meshgrid(hticks, vticks)"
   ]
  },
  {
   "cell_type": "code",
   "execution_count": 71,
   "metadata": {},
   "outputs": [
    {
     "data": {
      "text/plain": [
       "array([[-0.74037421, -0.50774493, -0.27511564, -0.04248636,  0.19014293,\n",
       "         0.42277221,  0.65540149,  0.88803078,  1.12066006,  1.35328934],\n",
       "       [-0.74037421, -0.50774493, -0.27511564, -0.04248636,  0.19014293,\n",
       "         0.42277221,  0.65540149,  0.88803078,  1.12066006,  1.35328934],\n",
       "       [-0.74037421, -0.50774493, -0.27511564, -0.04248636,  0.19014293,\n",
       "         0.42277221,  0.65540149,  0.88803078,  1.12066006,  1.35328934],\n",
       "       [-0.74037421, -0.50774493, -0.27511564, -0.04248636,  0.19014293,\n",
       "         0.42277221,  0.65540149,  0.88803078,  1.12066006,  1.35328934],\n",
       "       [-0.74037421, -0.50774493, -0.27511564, -0.04248636,  0.19014293,\n",
       "         0.42277221,  0.65540149,  0.88803078,  1.12066006,  1.35328934],\n",
       "       [-0.74037421, -0.50774493, -0.27511564, -0.04248636,  0.19014293,\n",
       "         0.42277221,  0.65540149,  0.88803078,  1.12066006,  1.35328934],\n",
       "       [-0.74037421, -0.50774493, -0.27511564, -0.04248636,  0.19014293,\n",
       "         0.42277221,  0.65540149,  0.88803078,  1.12066006,  1.35328934],\n",
       "       [-0.74037421, -0.50774493, -0.27511564, -0.04248636,  0.19014293,\n",
       "         0.42277221,  0.65540149,  0.88803078,  1.12066006,  1.35328934],\n",
       "       [-0.74037421, -0.50774493, -0.27511564, -0.04248636,  0.19014293,\n",
       "         0.42277221,  0.65540149,  0.88803078,  1.12066006,  1.35328934],\n",
       "       [-0.74037421, -0.50774493, -0.27511564, -0.04248636,  0.19014293,\n",
       "         0.42277221,  0.65540149,  0.88803078,  1.12066006,  1.35328934]])"
      ]
     },
     "execution_count": 71,
     "metadata": {},
     "output_type": "execute_result"
    }
   ],
   "source": [
    "aa"
   ]
  },
  {
   "cell_type": "code",
   "execution_count": 62,
   "metadata": {},
   "outputs": [
    {
     "data": {
      "text/plain": [
       "array([[-1.11949655, -1.11949655, -1.11949655, -1.11949655, -1.11949655,\n",
       "        -1.11949655, -1.11949655, -1.11949655, -1.11949655, -1.11949655],\n",
       "       [-0.87901539, -0.87901539, -0.87901539, -0.87901539, -0.87901539,\n",
       "        -0.87901539, -0.87901539, -0.87901539, -0.87901539, -0.87901539],\n",
       "       [-0.63853423, -0.63853423, -0.63853423, -0.63853423, -0.63853423,\n",
       "        -0.63853423, -0.63853423, -0.63853423, -0.63853423, -0.63853423],\n",
       "       [-0.39805307, -0.39805307, -0.39805307, -0.39805307, -0.39805307,\n",
       "        -0.39805307, -0.39805307, -0.39805307, -0.39805307, -0.39805307],\n",
       "       [-0.15757191, -0.15757191, -0.15757191, -0.15757191, -0.15757191,\n",
       "        -0.15757191, -0.15757191, -0.15757191, -0.15757191, -0.15757191],\n",
       "       [ 0.08290925,  0.08290925,  0.08290925,  0.08290925,  0.08290925,\n",
       "         0.08290925,  0.08290925,  0.08290925,  0.08290925,  0.08290925],\n",
       "       [ 0.32339041,  0.32339041,  0.32339041,  0.32339041,  0.32339041,\n",
       "         0.32339041,  0.32339041,  0.32339041,  0.32339041,  0.32339041],\n",
       "       [ 0.56387157,  0.56387157,  0.56387157,  0.56387157,  0.56387157,\n",
       "         0.56387157,  0.56387157,  0.56387157,  0.56387157,  0.56387157],\n",
       "       [ 0.80435273,  0.80435273,  0.80435273,  0.80435273,  0.80435273,\n",
       "         0.80435273,  0.80435273,  0.80435273,  0.80435273,  0.80435273],\n",
       "       [ 1.04483389,  1.04483389,  1.04483389,  1.04483389,  1.04483389,\n",
       "         1.04483389,  1.04483389,  1.04483389,  1.04483389,  1.04483389]])"
      ]
     },
     "execution_count": 62,
     "metadata": {},
     "output_type": "execute_result"
    }
   ],
   "source": [
    "bb"
   ]
  },
  {
   "cell_type": "code",
   "execution_count": 63,
   "metadata": {},
   "outputs": [
    {
     "data": {
      "text/plain": [
       "array([-0.74037421, -0.50774493, -0.27511564, -0.04248636,  0.19014293,\n",
       "        0.42277221,  0.65540149,  0.88803078,  1.12066006,  1.35328934,\n",
       "       -0.74037421, -0.50774493, -0.27511564, -0.04248636,  0.19014293,\n",
       "        0.42277221,  0.65540149,  0.88803078,  1.12066006,  1.35328934,\n",
       "       -0.74037421, -0.50774493, -0.27511564, -0.04248636,  0.19014293,\n",
       "        0.42277221,  0.65540149,  0.88803078,  1.12066006,  1.35328934,\n",
       "       -0.74037421, -0.50774493, -0.27511564, -0.04248636,  0.19014293,\n",
       "        0.42277221,  0.65540149,  0.88803078,  1.12066006,  1.35328934,\n",
       "       -0.74037421, -0.50774493, -0.27511564, -0.04248636,  0.19014293,\n",
       "        0.42277221,  0.65540149,  0.88803078,  1.12066006,  1.35328934,\n",
       "       -0.74037421, -0.50774493, -0.27511564, -0.04248636,  0.19014293,\n",
       "        0.42277221,  0.65540149,  0.88803078,  1.12066006,  1.35328934,\n",
       "       -0.74037421, -0.50774493, -0.27511564, -0.04248636,  0.19014293,\n",
       "        0.42277221,  0.65540149,  0.88803078,  1.12066006,  1.35328934,\n",
       "       -0.74037421, -0.50774493, -0.27511564, -0.04248636,  0.19014293,\n",
       "        0.42277221,  0.65540149,  0.88803078,  1.12066006,  1.35328934,\n",
       "       -0.74037421, -0.50774493, -0.27511564, -0.04248636,  0.19014293,\n",
       "        0.42277221,  0.65540149,  0.88803078,  1.12066006,  1.35328934,\n",
       "       -0.74037421, -0.50774493, -0.27511564, -0.04248636,  0.19014293,\n",
       "        0.42277221,  0.65540149,  0.88803078,  1.12066006,  1.35328934])"
      ]
     },
     "execution_count": 63,
     "metadata": {},
     "output_type": "execute_result"
    }
   ],
   "source": [
    "aa.ravel()"
   ]
  },
  {
   "cell_type": "code",
   "execution_count": 64,
   "metadata": {},
   "outputs": [
    {
     "data": {
      "text/plain": [
       "array([-1.11949655, -1.11949655, -1.11949655, -1.11949655, -1.11949655,\n",
       "       -1.11949655, -1.11949655, -1.11949655, -1.11949655, -1.11949655,\n",
       "       -0.87901539, -0.87901539, -0.87901539, -0.87901539, -0.87901539,\n",
       "       -0.87901539, -0.87901539, -0.87901539, -0.87901539, -0.87901539,\n",
       "       -0.63853423, -0.63853423, -0.63853423, -0.63853423, -0.63853423,\n",
       "       -0.63853423, -0.63853423, -0.63853423, -0.63853423, -0.63853423,\n",
       "       -0.39805307, -0.39805307, -0.39805307, -0.39805307, -0.39805307,\n",
       "       -0.39805307, -0.39805307, -0.39805307, -0.39805307, -0.39805307,\n",
       "       -0.15757191, -0.15757191, -0.15757191, -0.15757191, -0.15757191,\n",
       "       -0.15757191, -0.15757191, -0.15757191, -0.15757191, -0.15757191,\n",
       "        0.08290925,  0.08290925,  0.08290925,  0.08290925,  0.08290925,\n",
       "        0.08290925,  0.08290925,  0.08290925,  0.08290925,  0.08290925,\n",
       "        0.32339041,  0.32339041,  0.32339041,  0.32339041,  0.32339041,\n",
       "        0.32339041,  0.32339041,  0.32339041,  0.32339041,  0.32339041,\n",
       "        0.56387157,  0.56387157,  0.56387157,  0.56387157,  0.56387157,\n",
       "        0.56387157,  0.56387157,  0.56387157,  0.56387157,  0.56387157,\n",
       "        0.80435273,  0.80435273,  0.80435273,  0.80435273,  0.80435273,\n",
       "        0.80435273,  0.80435273,  0.80435273,  0.80435273,  0.80435273,\n",
       "        1.04483389,  1.04483389,  1.04483389,  1.04483389,  1.04483389,\n",
       "        1.04483389,  1.04483389,  1.04483389,  1.04483389,  1.04483389])"
      ]
     },
     "execution_count": 64,
     "metadata": {},
     "output_type": "execute_result"
    }
   ],
   "source": [
    "bb.ravel()"
   ]
  },
  {
   "cell_type": "code",
   "execution_count": 65,
   "metadata": {},
   "outputs": [],
   "source": [
    "ab = np.c_[aa.ravel(), bb.ravel()]"
   ]
  },
  {
   "cell_type": "code",
   "execution_count": 66,
   "metadata": {},
   "outputs": [
    {
     "data": {
      "text/plain": [
       "array([[-0.74037421, -1.11949655],\n",
       "       [-0.50774493, -1.11949655],\n",
       "       [-0.27511564, -1.11949655],\n",
       "       [-0.04248636, -1.11949655],\n",
       "       [ 0.19014293, -1.11949655],\n",
       "       [ 0.42277221, -1.11949655],\n",
       "       [ 0.65540149, -1.11949655],\n",
       "       [ 0.88803078, -1.11949655],\n",
       "       [ 1.12066006, -1.11949655],\n",
       "       [ 1.35328934, -1.11949655],\n",
       "       [-0.74037421, -0.87901539],\n",
       "       [-0.50774493, -0.87901539],\n",
       "       [-0.27511564, -0.87901539],\n",
       "       [-0.04248636, -0.87901539],\n",
       "       [ 0.19014293, -0.87901539],\n",
       "       [ 0.42277221, -0.87901539],\n",
       "       [ 0.65540149, -0.87901539],\n",
       "       [ 0.88803078, -0.87901539],\n",
       "       [ 1.12066006, -0.87901539],\n",
       "       [ 1.35328934, -0.87901539],\n",
       "       [-0.74037421, -0.63853423],\n",
       "       [-0.50774493, -0.63853423],\n",
       "       [-0.27511564, -0.63853423],\n",
       "       [-0.04248636, -0.63853423],\n",
       "       [ 0.19014293, -0.63853423],\n",
       "       [ 0.42277221, -0.63853423],\n",
       "       [ 0.65540149, -0.63853423],\n",
       "       [ 0.88803078, -0.63853423],\n",
       "       [ 1.12066006, -0.63853423],\n",
       "       [ 1.35328934, -0.63853423],\n",
       "       [-0.74037421, -0.39805307],\n",
       "       [-0.50774493, -0.39805307],\n",
       "       [-0.27511564, -0.39805307],\n",
       "       [-0.04248636, -0.39805307],\n",
       "       [ 0.19014293, -0.39805307],\n",
       "       [ 0.42277221, -0.39805307],\n",
       "       [ 0.65540149, -0.39805307],\n",
       "       [ 0.88803078, -0.39805307],\n",
       "       [ 1.12066006, -0.39805307],\n",
       "       [ 1.35328934, -0.39805307],\n",
       "       [-0.74037421, -0.15757191],\n",
       "       [-0.50774493, -0.15757191],\n",
       "       [-0.27511564, -0.15757191],\n",
       "       [-0.04248636, -0.15757191],\n",
       "       [ 0.19014293, -0.15757191],\n",
       "       [ 0.42277221, -0.15757191],\n",
       "       [ 0.65540149, -0.15757191],\n",
       "       [ 0.88803078, -0.15757191],\n",
       "       [ 1.12066006, -0.15757191],\n",
       "       [ 1.35328934, -0.15757191],\n",
       "       [-0.74037421,  0.08290925],\n",
       "       [-0.50774493,  0.08290925],\n",
       "       [-0.27511564,  0.08290925],\n",
       "       [-0.04248636,  0.08290925],\n",
       "       [ 0.19014293,  0.08290925],\n",
       "       [ 0.42277221,  0.08290925],\n",
       "       [ 0.65540149,  0.08290925],\n",
       "       [ 0.88803078,  0.08290925],\n",
       "       [ 1.12066006,  0.08290925],\n",
       "       [ 1.35328934,  0.08290925],\n",
       "       [-0.74037421,  0.32339041],\n",
       "       [-0.50774493,  0.32339041],\n",
       "       [-0.27511564,  0.32339041],\n",
       "       [-0.04248636,  0.32339041],\n",
       "       [ 0.19014293,  0.32339041],\n",
       "       [ 0.42277221,  0.32339041],\n",
       "       [ 0.65540149,  0.32339041],\n",
       "       [ 0.88803078,  0.32339041],\n",
       "       [ 1.12066006,  0.32339041],\n",
       "       [ 1.35328934,  0.32339041],\n",
       "       [-0.74037421,  0.56387157],\n",
       "       [-0.50774493,  0.56387157],\n",
       "       [-0.27511564,  0.56387157],\n",
       "       [-0.04248636,  0.56387157],\n",
       "       [ 0.19014293,  0.56387157],\n",
       "       [ 0.42277221,  0.56387157],\n",
       "       [ 0.65540149,  0.56387157],\n",
       "       [ 0.88803078,  0.56387157],\n",
       "       [ 1.12066006,  0.56387157],\n",
       "       [ 1.35328934,  0.56387157],\n",
       "       [-0.74037421,  0.80435273],\n",
       "       [-0.50774493,  0.80435273],\n",
       "       [-0.27511564,  0.80435273],\n",
       "       [-0.04248636,  0.80435273],\n",
       "       [ 0.19014293,  0.80435273],\n",
       "       [ 0.42277221,  0.80435273],\n",
       "       [ 0.65540149,  0.80435273],\n",
       "       [ 0.88803078,  0.80435273],\n",
       "       [ 1.12066006,  0.80435273],\n",
       "       [ 1.35328934,  0.80435273],\n",
       "       [-0.74037421,  1.04483389],\n",
       "       [-0.50774493,  1.04483389],\n",
       "       [-0.27511564,  1.04483389],\n",
       "       [-0.04248636,  1.04483389],\n",
       "       [ 0.19014293,  1.04483389],\n",
       "       [ 0.42277221,  1.04483389],\n",
       "       [ 0.65540149,  1.04483389],\n",
       "       [ 0.88803078,  1.04483389],\n",
       "       [ 1.12066006,  1.04483389],\n",
       "       [ 1.35328934,  1.04483389]])"
      ]
     },
     "execution_count": 66,
     "metadata": {},
     "output_type": "execute_result"
    }
   ],
   "source": [
    "ab"
   ]
  },
  {
   "cell_type": "code",
   "execution_count": 72,
   "metadata": {},
   "outputs": [],
   "source": [
    "c = model.predict(ab)"
   ]
  },
  {
   "cell_type": "code",
   "execution_count": 73,
   "metadata": {},
   "outputs": [
    {
     "data": {
      "text/plain": [
       "array([[0.24112737],\n",
       "       [0.37369478],\n",
       "       [0.5283973 ],\n",
       "       [0.677831  ],\n",
       "       [0.79801464],\n",
       "       [0.8812208 ],\n",
       "       [0.93302745],\n",
       "       [0.9631822 ],\n",
       "       [0.9800499 ],\n",
       "       [0.98927593],\n",
       "       [0.21595052],\n",
       "       [0.34089404],\n",
       "       [0.4926999 ],\n",
       "       [0.6458639 ],\n",
       "       [0.77399665],\n",
       "       [0.8654283 ],\n",
       "       [0.9235253 ],\n",
       "       [0.9577648 ],\n",
       "       [0.9770553 ],\n",
       "       [0.98764867],\n",
       "       [0.19273481],\n",
       "       [0.3095494 ],\n",
       "       [0.45707676],\n",
       "       [0.61253804],\n",
       "       [0.74802446],\n",
       "       [0.84789854],\n",
       "       [0.91280085],\n",
       "       [0.9515903 ],\n",
       "       [0.97362334],\n",
       "       [0.9857782 ],\n",
       "       [0.17146908],\n",
       "       [0.2798631 ],\n",
       "       [0.42188722],\n",
       "       [0.5781245 ],\n",
       "       [0.7201467 ],\n",
       "       [0.8285378 ],\n",
       "       [0.9007342 ],\n",
       "       [0.9445653 ],\n",
       "       [0.96969384],\n",
       "       [0.98362905],\n",
       "       [0.15210763],\n",
       "       [0.2519847 ],\n",
       "       [0.38747346],\n",
       "       [0.54293525],\n",
       "       [0.690461  ],\n",
       "       [0.80727273],\n",
       "       [0.8872041 ],\n",
       "       [0.9365889 ],\n",
       "       [0.96519995],\n",
       "       [0.98116136],\n",
       "       [0.13457729],\n",
       "       [0.22601183],\n",
       "       [0.35414717],\n",
       "       [0.5073122 ],\n",
       "       [0.65911686],\n",
       "       [0.7840577 ],\n",
       "       [0.87209165],\n",
       "       [0.92755276],\n",
       "       [0.96006703],\n",
       "       [0.97832984],\n",
       "       [0.11878424],\n",
       "       [0.20199312],\n",
       "       [0.32217956],\n",
       "       [0.47161475],\n",
       "       [0.62631655],\n",
       "       [0.75888145],\n",
       "       [0.8552848 ],\n",
       "       [0.91734266],\n",
       "       [0.954213  ],\n",
       "       [0.9750836 ],\n",
       "       [0.10462053],\n",
       "       [0.17993358],\n",
       "       [0.29179388],\n",
       "       [0.43620524],\n",
       "       [0.59231234],\n",
       "       [0.7317742 ],\n",
       "       [0.8366831 ],\n",
       "       [0.9058397 ],\n",
       "       [0.94754773],\n",
       "       [0.97136533],\n",
       "       [0.0919694 ],\n",
       "       [0.1598007 ],\n",
       "       [0.26316133],\n",
       "       [0.40143448],\n",
       "       [0.55740047],\n",
       "       [0.70281285],\n",
       "       [0.81620413],\n",
       "       [0.8929227 ],\n",
       "       [0.9399732 ],\n",
       "       [0.9671108 ],\n",
       "       [0.08071022],\n",
       "       [0.14153172],\n",
       "       [0.23640051],\n",
       "       [0.36762813],\n",
       "       [0.52191204],\n",
       "       [0.6721255 ],\n",
       "       [0.7937901 ],\n",
       "       [0.8784715 ],\n",
       "       [0.9313839 ],\n",
       "       [0.9622488 ]], dtype=float32)"
      ]
     },
     "execution_count": 73,
     "metadata": {},
     "output_type": "execute_result"
    }
   ],
   "source": [
    "c"
   ]
  },
  {
   "cell_type": "code",
   "execution_count": 74,
   "metadata": {},
   "outputs": [
    {
     "data": {
      "text/plain": [
       "array([[0.24112737, 0.37369478, 0.5283973 , 0.677831  , 0.79801464,\n",
       "        0.8812208 , 0.93302745, 0.9631822 , 0.9800499 , 0.98927593],\n",
       "       [0.21595052, 0.34089404, 0.4926999 , 0.6458639 , 0.77399665,\n",
       "        0.8654283 , 0.9235253 , 0.9577648 , 0.9770553 , 0.98764867],\n",
       "       [0.19273481, 0.3095494 , 0.45707676, 0.61253804, 0.74802446,\n",
       "        0.84789854, 0.91280085, 0.9515903 , 0.97362334, 0.9857782 ],\n",
       "       [0.17146908, 0.2798631 , 0.42188722, 0.5781245 , 0.7201467 ,\n",
       "        0.8285378 , 0.9007342 , 0.9445653 , 0.96969384, 0.98362905],\n",
       "       [0.15210763, 0.2519847 , 0.38747346, 0.54293525, 0.690461  ,\n",
       "        0.80727273, 0.8872041 , 0.9365889 , 0.96519995, 0.98116136],\n",
       "       [0.13457729, 0.22601183, 0.35414717, 0.5073122 , 0.65911686,\n",
       "        0.7840577 , 0.87209165, 0.92755276, 0.96006703, 0.97832984],\n",
       "       [0.11878424, 0.20199312, 0.32217956, 0.47161475, 0.62631655,\n",
       "        0.75888145, 0.8552848 , 0.91734266, 0.954213  , 0.9750836 ],\n",
       "       [0.10462053, 0.17993358, 0.29179388, 0.43620524, 0.59231234,\n",
       "        0.7317742 , 0.8366831 , 0.9058397 , 0.94754773, 0.97136533],\n",
       "       [0.0919694 , 0.1598007 , 0.26316133, 0.40143448, 0.55740047,\n",
       "        0.70281285, 0.81620413, 0.8929227 , 0.9399732 , 0.9671108 ],\n",
       "       [0.08071022, 0.14153172, 0.23640051, 0.36762813, 0.52191204,\n",
       "        0.6721255 , 0.7937901 , 0.8784715 , 0.9313839 , 0.9622488 ]],\n",
       "      dtype=float32)"
      ]
     },
     "execution_count": 74,
     "metadata": {},
     "output_type": "execute_result"
    }
   ],
   "source": [
    "c.reshape(aa.shape)"
   ]
  },
  {
   "cell_type": "code",
   "execution_count": null,
   "metadata": {},
   "outputs": [],
   "source": []
  }
 ],
 "metadata": {
  "kernelspec": {
   "display_name": "Python 3",
   "language": "python",
   "name": "python3"
  },
  "language_info": {
   "codemirror_mode": {
    "name": "ipython",
    "version": 3
   },
   "file_extension": ".py",
   "mimetype": "text/x-python",
   "name": "python",
   "nbconvert_exporter": "python",
   "pygments_lexer": "ipython3",
   "version": "3.6.6"
  }
 },
 "nbformat": 4,
 "nbformat_minor": 2
}
