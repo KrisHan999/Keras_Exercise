{
 "cells": [
  {
   "cell_type": "code",
   "execution_count": 1,
   "metadata": {},
   "outputs": [],
   "source": [
    "# In the exerise, use the dataset function from sklearn called make_blobs\n",
    "# We will implement the basic keras Sequential model"
   ]
  },
  {
   "cell_type": "code",
   "execution_count": 2,
   "metadata": {},
   "outputs": [],
   "source": [
    "from sklearn.datasets import make_blobs\n",
    "import numpy as np\n",
    "import matplotlib.pyplot as plt\n",
    "import os"
   ]
  },
  {
   "cell_type": "code",
   "execution_count": 3,
   "metadata": {},
   "outputs": [],
   "source": [
    "os.environ[\"TF_CPP_MIN_LOG_LEVEL\"] = \"2\""
   ]
  },
  {
   "cell_type": "code",
   "execution_count": 4,
   "metadata": {},
   "outputs": [],
   "source": [
    "def plot_data(pl, x, y):\n",
    "    pl.plot(x[y==0, 0], x[y==0, 1], \"ob\", alpha=0.5)\n",
    "    pl.plot(x[y==1, 0], x[y==1, 1], \"xr\", alpha=0.5)\n",
    "    pl.legend(['0', '1'])\n",
    "    return pl"
   ]
  },
  {
   "cell_type": "code",
   "execution_count": 37,
   "metadata": {},
   "outputs": [],
   "source": [
    "def plot_decision_boundary(model, x, y):\n",
    "\n",
    "    amin, bmin = x.min(axis = 0) - 0.1\n",
    "    amax, bmax = x.max(axis = 0) + 0.1\n",
    "    hticks = np.linspace(amin, amax, 101)\n",
    "    vticks = np.linspace(bmin, bmax, 101)\n",
    "    \n",
    "    aa, bb = np.meshgrid(hticks, vticks)\n",
    "    ab = np.c_[aa.ravel(), bb.ravel()]\n",
    "    \n",
    "    c = model.predict(ab)\n",
    "    Z = c.reshape(aa.shape)\n",
    "    \n",
    "    \n",
    "    plt.figure(figsize=(12, 8))\n",
    "    plt.contourf(aa, bb, Z, cmap='bwr', alpha=0.2)\n",
    "    \n",
    "    plot_data(plt, x, y)\n",
    "\n",
    "    return plt   "
   ]
  },
  {
   "cell_type": "code",
   "execution_count": 38,
   "metadata": {},
   "outputs": [
    {
     "data": {
      "image/png": "[encoded data removed]",
      "text/plain": [
       "<Figure size 432x288 with 1 Axes>"
      ]
     },
     "metadata": {},
     "output_type": "display_data"
    }
   ],
   "source": [
    "x, y = make_blobs(n_samples=1000, centers = 2, random_state=42)\n",
    "\n",
    "pl = plot_data(plt, x, y)\n",
    "pl.show()"
   ]
  },
  {
   "cell_type": "code",
   "execution_count": 15,
   "metadata": {},
   "outputs": [],
   "source": [
    "from sklearn.model_selection import train_test_split\n",
    "x_train, x_test, y_train, y_test = train_test_split(x, y, test_size = 0.3, random_state = 42)"
   ]
  },
  {
   "cell_type": "code",
   "execution_count": 16,
   "metadata": {},
   "outputs": [],
   "source": [
    "from keras.models import Sequential\n",
    "from keras.layers import Dense\n",
    "from keras.optimizers import Adam"
   ]
  },
  {
   "cell_type": "code",
   "execution_count": 17,
   "metadata": {},
   "outputs": [
    {
     "name": "stdout",
     "output_type": "stream",
     "text": [
      "Epoch 1/100\n",
      "700/700 [==============================] - 0s 251us/step - loss: 1.5112 - acc: 0.5443\n",
      "Epoch 2/100\n",
      "700/700 [==============================] - 0s 28us/step - loss: 0.1016 - acc: 0.9986\n",
      "Epoch 3/100\n",
      "700/700 [==============================] - 0s 34us/step - loss: 0.0233 - acc: 1.0000\n",
      "Epoch 4/100\n",
      "700/700 [==============================] - 0s 31us/step - loss: 0.0161 - acc: 1.0000\n",
      "Epoch 5/100\n",
      "700/700 [==============================] - 0s 34us/step - loss: 0.0131 - acc: 1.0000\n",
      "Epoch 6/100\n",
      "700/700 [==============================] - 0s 31us/step - loss: 0.0111 - acc: 1.0000\n",
      "Epoch 7/100\n",
      "700/700 [==============================] - 0s 36us/step - loss: 0.0095 - acc: 1.0000\n",
      "Epoch 8/100\n",
      "700/700 [==============================] - 0s 30us/step - loss: 0.0083 - acc: 1.0000\n",
      "Epoch 9/100\n",
      "700/700 [==============================] - 0s 38us/step - loss: 0.0073 - acc: 1.0000\n",
      "Epoch 10/100\n",
      "700/700 [==============================] - 0s 26us/step - loss: 0.0066 - acc: 1.0000\n",
      "Epoch 11/100\n",
      "700/700 [==============================] - 0s 40us/step - loss: 0.0059 - acc: 1.0000\n",
      "Epoch 12/100\n",
      "700/700 [==============================] - 0s 31us/step - loss: 0.0054 - acc: 1.0000\n",
      "Epoch 13/100\n",
      "700/700 [==============================] - 0s 31us/step - loss: 0.0049 - acc: 1.0000\n",
      "Epoch 14/100\n",
      "700/700 [==============================] - 0s 31us/step - loss: 0.0045 - acc: 1.0000\n",
      "Epoch 15/100\n",
      "700/700 [==============================] - 0s 30us/step - loss: 0.0042 - acc: 1.0000\n",
      "Epoch 16/100\n",
      "700/700 [==============================] - 0s 28us/step - loss: 0.0039 - acc: 1.0000\n",
      "Epoch 17/100\n",
      "700/700 [==============================] - 0s 31us/step - loss: 0.0036 - acc: 1.0000\n",
      "Epoch 18/100\n",
      "700/700 [==============================] - 0s 31us/step - loss: 0.0034 - acc: 1.0000\n",
      "Epoch 19/100\n",
      "700/700 [==============================] - 0s 30us/step - loss: 0.0032 - acc: 1.0000\n",
      "Epoch 20/100\n",
      "700/700 [==============================] - 0s 36us/step - loss: 0.0030 - acc: 1.0000\n",
      "Epoch 21/100\n",
      "700/700 [==============================] - 0s 27us/step - loss: 0.0028 - acc: 1.0000\n",
      "Epoch 22/100\n",
      "700/700 [==============================] - 0s 30us/step - loss: 0.0026 - acc: 1.0000\n",
      "Epoch 23/100\n",
      "700/700 [==============================] - 0s 29us/step - loss: 0.0025 - acc: 1.0000\n",
      "Epoch 24/100\n",
      "700/700 [==============================] - 0s 31us/step - loss: 0.0024 - acc: 1.0000\n",
      "Epoch 25/100\n",
      "700/700 [==============================] - 0s 30us/step - loss: 0.0023 - acc: 1.0000\n",
      "Epoch 26/100\n",
      "700/700 [==============================] - 0s 38us/step - loss: 0.0022 - acc: 1.0000\n",
      "Epoch 27/100\n",
      "700/700 [==============================] - 0s 30us/step - loss: 0.0021 - acc: 1.0000\n",
      "Epoch 28/100\n",
      "700/700 [==============================] - 0s 33us/step - loss: 0.0020 - acc: 1.0000\n",
      "Epoch 29/100\n",
      "700/700 [==============================] - 0s 27us/step - loss: 0.0019 - acc: 1.0000\n",
      "Epoch 30/100\n",
      "700/700 [==============================] - 0s 27us/step - loss: 0.0018 - acc: 1.0000\n",
      "Epoch 31/100\n",
      "700/700 [==============================] - 0s 28us/step - loss: 0.0017 - acc: 1.0000\n",
      "Epoch 32/100\n",
      "700/700 [==============================] - 0s 30us/step - loss: 0.0017 - acc: 1.0000\n",
      "Epoch 33/100\n",
      "700/700 [==============================] - 0s 30us/step - loss: 0.0016 - acc: 1.0000\n",
      "Epoch 34/100\n",
      "700/700 [==============================] - 0s 27us/step - loss: 0.0016 - acc: 1.0000\n",
      "Epoch 35/100\n",
      "700/700 [==============================] - 0s 27us/step - loss: 0.0015 - acc: 1.0000\n",
      "Epoch 36/100\n",
      "700/700 [==============================] - 0s 30us/step - loss: 0.0014 - acc: 1.0000\n",
      "Epoch 37/100\n",
      "700/700 [==============================] - 0s 26us/step - loss: 0.0014 - acc: 1.0000\n",
      "Epoch 38/100\n",
      "700/700 [==============================] - 0s 27us/step - loss: 0.0013 - acc: 1.0000\n",
      "Epoch 39/100\n",
      "700/700 [==============================] - 0s 27us/step - loss: 0.0013 - acc: 1.0000\n",
      "Epoch 40/100\n",
      "700/700 [==============================] - 0s 30us/step - loss: 0.0013 - acc: 1.0000\n",
      "Epoch 41/100\n",
      "700/700 [==============================] - 0s 28us/step - loss: 0.0012 - acc: 1.0000\n",
      "Epoch 42/100\n",
      "700/700 [==============================] - 0s 28us/step - loss: 0.0012 - acc: 1.0000\n",
      "Epoch 43/100\n",
      "700/700 [==============================] - 0s 26us/step - loss: 0.0011 - acc: 1.0000\n",
      "Epoch 44/100\n",
      "700/700 [==============================] - 0s 28us/step - loss: 0.0011 - acc: 1.0000\n",
      "Epoch 45/100\n",
      "700/700 [==============================] - 0s 30us/step - loss: 0.0011 - acc: 1.0000\n",
      "Epoch 46/100\n",
      "700/700 [==============================] - 0s 30us/step - loss: 0.0010 - acc: 1.0000\n",
      "Epoch 47/100\n",
      "700/700 [==============================] - 0s 27us/step - loss: 0.0010 - acc: 1.0000\n",
      "Epoch 48/100\n",
      "700/700 [==============================] - 0s 27us/step - loss: 9.9639e-04 - acc: 1.0000\n",
      "Epoch 49/100\n",
      "700/700 [==============================] - 0s 29us/step - loss: 9.6978e-04 - acc: 1.0000\n",
      "Epoch 50/100\n",
      "700/700 [==============================] - 0s 27us/step - loss: 9.4364e-04 - acc: 1.0000\n",
      "Epoch 51/100\n",
      "700/700 [==============================] - 0s 26us/step - loss: 9.1888e-04 - acc: 1.0000\n",
      "Epoch 52/100\n",
      "700/700 [==============================] - 0s 26us/step - loss: 8.9353e-04 - acc: 1.0000\n",
      "Epoch 53/100\n",
      "700/700 [==============================] - 0s 26us/step - loss: 8.7326e-04 - acc: 1.0000\n",
      "Epoch 54/100\n",
      "700/700 [==============================] - 0s 27us/step - loss: 8.5099e-04 - acc: 1.0000\n",
      "Epoch 55/100\n",
      "700/700 [==============================] - 0s 24us/step - loss: 8.3337e-04 - acc: 1.0000\n",
      "Epoch 56/100\n",
      "700/700 [==============================] - 0s 26us/step - loss: 8.0993e-04 - acc: 1.0000\n",
      "Epoch 57/100\n",
      "700/700 [==============================] - 0s 26us/step - loss: 7.9251e-04 - acc: 1.0000\n",
      "Epoch 58/100\n",
      "700/700 [==============================] - 0s 26us/step - loss: 7.7320e-04 - acc: 1.0000\n",
      "Epoch 59/100\n",
      "700/700 [==============================] - 0s 24us/step - loss: 7.5584e-04 - acc: 1.0000\n",
      "Epoch 60/100\n",
      "700/700 [==============================] - 0s 24us/step - loss: 7.3911e-04 - acc: 1.0000\n",
      "Epoch 61/100\n",
      "700/700 [==============================] - 0s 26us/step - loss: 7.2242e-04 - acc: 1.0000\n",
      "Epoch 62/100\n",
      "700/700 [==============================] - 0s 26us/step - loss: 7.0902e-04 - acc: 1.0000\n",
      "Epoch 63/100\n",
      "700/700 [==============================] - 0s 26us/step - loss: 6.9146e-04 - acc: 1.0000\n",
      "Epoch 64/100\n",
      "700/700 [==============================] - 0s 27us/step - loss: 6.7637e-04 - acc: 1.0000\n",
      "Epoch 65/100\n",
      "700/700 [==============================] - 0s 24us/step - loss: 6.6275e-04 - acc: 1.0000\n",
      "Epoch 66/100\n",
      "700/700 [==============================] - 0s 23us/step - loss: 6.5145e-04 - acc: 1.0000\n",
      "Epoch 67/100\n",
      "700/700 [==============================] - 0s 23us/step - loss: 6.3469e-04 - acc: 1.0000\n",
      "Epoch 68/100\n",
      "700/700 [==============================] - 0s 24us/step - loss: 6.2359e-04 - acc: 1.0000\n",
      "Epoch 69/100\n",
      "700/700 [==============================] - 0s 23us/step - loss: 6.1035e-04 - acc: 1.0000\n",
      "Epoch 70/100\n",
      "700/700 [==============================] - 0s 23us/step - loss: 5.9722e-04 - acc: 1.0000\n",
      "Epoch 71/100\n",
      "700/700 [==============================] - 0s 23us/step - loss: 5.8578e-04 - acc: 1.0000\n",
      "Epoch 72/100\n",
      "700/700 [==============================] - 0s 21us/step - loss: 5.7312e-04 - acc: 1.0000\n",
      "Epoch 73/100\n",
      "700/700 [==============================] - 0s 24us/step - loss: 5.6221e-04 - acc: 1.0000\n",
      "Epoch 74/100\n",
      "700/700 [==============================] - 0s 21us/step - loss: 5.5207e-04 - acc: 1.0000\n",
      "Epoch 75/100\n",
      "700/700 [==============================] - 0s 24us/step - loss: 5.4533e-04 - acc: 1.0000\n",
      "Epoch 76/100\n",
      "700/700 [==============================] - 0s 24us/step - loss: 5.3316e-04 - acc: 1.0000\n",
      "Epoch 77/100\n",
      "700/700 [==============================] - 0s 26us/step - loss: 5.2403e-04 - acc: 1.0000\n",
      "Epoch 78/100\n",
      "700/700 [==============================] - 0s 23us/step - loss: 5.1384e-04 - acc: 1.0000\n",
      "Epoch 79/100\n",
      "700/700 [==============================] - 0s 23us/step - loss: 5.0205e-04 - acc: 1.0000\n",
      "Epoch 80/100\n",
      "700/700 [==============================] - 0s 21us/step - loss: 4.9487e-04 - acc: 1.0000\n",
      "Epoch 81/100\n",
      "700/700 [==============================] - 0s 21us/step - loss: 4.8531e-04 - acc: 1.0000\n",
      "Epoch 82/100\n",
      "700/700 [==============================] - 0s 21us/step - loss: 4.7698e-04 - acc: 1.0000\n",
      "Epoch 83/100\n"
     ]
    },
    {
     "name": "stdout",
     "output_type": "stream",
     "text": [
      "700/700 [==============================] - 0s 23us/step - loss: 4.6801e-04 - acc: 1.0000\n",
      "Epoch 84/100\n",
      "700/700 [==============================] - 0s 23us/step - loss: 4.6123e-04 - acc: 1.0000\n",
      "Epoch 85/100\n",
      "700/700 [==============================] - 0s 23us/step - loss: 4.5249e-04 - acc: 1.0000\n",
      "Epoch 86/100\n",
      "700/700 [==============================] - 0s 21us/step - loss: 4.4475e-04 - acc: 1.0000\n",
      "Epoch 87/100\n",
      "700/700 [==============================] - 0s 24us/step - loss: 4.3746e-04 - acc: 1.0000\n",
      "Epoch 88/100\n",
      "700/700 [==============================] - 0s 23us/step - loss: 4.3167e-04 - acc: 1.0000\n",
      "Epoch 89/100\n",
      "700/700 [==============================] - 0s 23us/step - loss: 4.2171e-04 - acc: 1.0000\n",
      "Epoch 90/100\n",
      "700/700 [==============================] - 0s 23us/step - loss: 4.1796e-04 - acc: 1.0000\n",
      "Epoch 91/100\n",
      "700/700 [==============================] - 0s 21us/step - loss: 4.0998e-04 - acc: 1.0000\n",
      "Epoch 92/100\n",
      "700/700 [==============================] - 0s 21us/step - loss: 4.0737e-04 - acc: 1.0000\n",
      "Epoch 93/100\n",
      "700/700 [==============================] - 0s 23us/step - loss: 3.9497e-04 - acc: 1.0000\n",
      "Epoch 94/100\n",
      "700/700 [==============================] - 0s 23us/step - loss: 3.8913e-04 - acc: 1.0000\n",
      "Epoch 95/100\n",
      "700/700 [==============================] - 0s 23us/step - loss: 3.8298e-04 - acc: 1.0000\n",
      "Epoch 96/100\n",
      "700/700 [==============================] - 0s 23us/step - loss: 3.7717e-04 - acc: 1.0000\n",
      "Epoch 97/100\n",
      "700/700 [==============================] - 0s 24us/step - loss: 3.7194e-04 - acc: 1.0000\n",
      "Epoch 98/100\n",
      "700/700 [==============================] - 0s 23us/step - loss: 3.6597e-04 - acc: 1.0000\n",
      "Epoch 99/100\n",
      "700/700 [==============================] - 0s 23us/step - loss: 3.5924e-04 - acc: 1.0000\n",
      "Epoch 100/100\n",
      "700/700 [==============================] - 0s 24us/step - loss: 3.5344e-04 - acc: 1.0000\n"
     ]
    },
    {
     "data": {
      "text/plain": [
       "<keras.callbacks.History at 0x233dd533e80>"
      ]
     },
     "execution_count": 17,
     "metadata": {},
     "output_type": "execute_result"
    }
   ],
   "source": [
    "model = Sequential()\n",
    "model.add(Dense(1,input_shape=(2,), activation = \"sigmoid\"))\n",
    "model.compile(Adam(lr=0.05), 'binary_crossentropy', metrics=['accuracy'])\n",
    "model.fit(x_train, y_train, epochs = 100, verbose = 1)"
   ]
  },
  {
   "cell_type": "code",
   "execution_count": 18,
   "metadata": {},
   "outputs": [
    {
     "name": "stdout",
     "output_type": "stream",
     "text": [
      "300/300 [==============================] - 0s 126us/step\n",
      "\n",
      "\n",
      "Test loss: 0.00011760922488368427 Test accuracy: 1.0\n"
     ]
    },
    {
     "data": {
      "image/png": "[encoded data removed]",
      "text/plain": [
       "<Figure size 864x576 with 1 Axes>"
      ]
     },
     "metadata": {},
     "output_type": "display_data"
    }
   ],
   "source": [
    "eval_result = model.evaluate(x_test, y_test)\n",
    "print(\"\\n\\nTest loss:\", eval_result[0], \"Test accuracy:\", eval_result[1])\n",
    "#   Plot the decision boundary\n",
    "plot_decision_boundary(model, x, y).show()"
   ]
  },
  {
   "cell_type": "code",
   "execution_count": 19,
   "metadata": {},
   "outputs": [
    {
     "data": {
      "text/plain": [
       "array([[-0.61466372,  0.66375623],\n",
       "       [ 0.13660605,  0.67416316],\n",
       "       [-0.20231452,  0.13429472],\n",
       "       [ 0.60299385,  0.00619641],\n",
       "       [-1.67399434, -0.89997394],\n",
       "       [ 0.77487898, -0.56015768],\n",
       "       [ 1.55574286,  2.64034335],\n",
       "       [-0.19674455, -1.81799008],\n",
       "       [-0.81727191,  1.05623639],\n",
       "       [-0.84670634, -1.52264193]])"
      ]
     },
     "execution_count": 19,
     "metadata": {},
     "output_type": "execute_result"
    }
   ],
   "source": [
    "test_x  =np.random.randn(10,2)\n",
    "test_x"
   ]
  },
  {
   "cell_type": "code",
   "execution_count": 20,
   "metadata": {},
   "outputs": [],
   "source": [
    "amin, bmin = test_x.min(axis=0)\n",
    "amax, bmax = test_x.max(axis=0)"
   ]
  },
  {
   "cell_type": "code",
   "execution_count": 21,
   "metadata": {},
   "outputs": [
    {
     "name": "stdout",
     "output_type": "stream",
     "text": [
      "-1.6739943387644451\n",
      "-1.8179900844247538\n",
      "1.5557428631136532\n",
      "2.6403433549117152\n"
     ]
    }
   ],
   "source": [
    "print(amin)\n",
    "print(bmin)\n",
    "print(amax)\n",
    "print(bmax)"
   ]
  },
  {
   "cell_type": "code",
   "execution_count": 22,
   "metadata": {},
   "outputs": [],
   "source": [
    "hticks = np.linspace(amin, amax, 10)\n",
    "vticks = np.linspace(bmin, bmax, 10)"
   ]
  },
  {
   "cell_type": "code",
   "execution_count": 23,
   "metadata": {},
   "outputs": [
    {
     "data": {
      "text/plain": [
       "array([-1.67399434, -1.31513465, -0.95627496, -0.59741527, -0.23855558,\n",
       "        0.12030411,  0.4791638 ,  0.83802348,  1.19688317,  1.55574286])"
      ]
     },
     "execution_count": 23,
     "metadata": {},
     "output_type": "execute_result"
    }
   ],
   "source": [
    "hticks"
   ]
  },
  {
   "cell_type": "code",
   "execution_count": 24,
   "metadata": {},
   "outputs": [
    {
     "data": {
      "text/plain": [
       "array([-1.81799008, -1.3226197 , -0.82724932, -0.33187894,  0.16349144,\n",
       "        0.65886183,  1.15423221,  1.64960259,  2.14497297,  2.64034335])"
      ]
     },
     "execution_count": 24,
     "metadata": {},
     "output_type": "execute_result"
    }
   ],
   "source": [
    "vticks"
   ]
  },
  {
   "cell_type": "code",
   "execution_count": 25,
   "metadata": {},
   "outputs": [],
   "source": [
    "aa, bb = np.meshgrid(hticks, vticks, sparse = True)"
   ]
  },
  {
   "cell_type": "code",
   "execution_count": 26,
   "metadata": {},
   "outputs": [
    {
     "data": {
      "text/plain": [
       "array([[-1.67399434, -1.31513465, -0.95627496, -0.59741527, -0.23855558,\n",
       "         0.12030411,  0.4791638 ,  0.83802348,  1.19688317,  1.55574286]])"
      ]
     },
     "execution_count": 26,
     "metadata": {},
     "output_type": "execute_result"
    }
   ],
   "source": [
    "aa"
   ]
  },
  {
   "cell_type": "code",
   "execution_count": 27,
   "metadata": {},
   "outputs": [
    {
     "data": {
      "text/plain": [
       "array([[-1.81799008],\n",
       "       [-1.3226197 ],\n",
       "       [-0.82724932],\n",
       "       [-0.33187894],\n",
       "       [ 0.16349144],\n",
       "       [ 0.65886183],\n",
       "       [ 1.15423221],\n",
       "       [ 1.64960259],\n",
       "       [ 2.14497297],\n",
       "       [ 2.64034335]])"
      ]
     },
     "execution_count": 27,
     "metadata": {},
     "output_type": "execute_result"
    }
   ],
   "source": [
    "bb"
   ]
  },
  {
   "cell_type": "code",
   "execution_count": 28,
   "metadata": {},
   "outputs": [
    {
     "data": {
      "text/plain": [
       "array([-1.67399434, -1.31513465, -0.95627496, -0.59741527, -0.23855558,\n",
       "        0.12030411,  0.4791638 ,  0.83802348,  1.19688317,  1.55574286])"
      ]
     },
     "execution_count": 28,
     "metadata": {},
     "output_type": "execute_result"
    }
   ],
   "source": [
    "aa.ravel()"
   ]
  },
  {
   "cell_type": "code",
   "execution_count": 29,
   "metadata": {},
   "outputs": [
    {
     "data": {
      "text/plain": [
       "array([-1.81799008, -1.3226197 , -0.82724932, -0.33187894,  0.16349144,\n",
       "        0.65886183,  1.15423221,  1.64960259,  2.14497297,  2.64034335])"
      ]
     },
     "execution_count": 29,
     "metadata": {},
     "output_type": "execute_result"
    }
   ],
   "source": [
    "bb.ravel()"
   ]
  },
  {
   "cell_type": "code",
   "execution_count": 30,
   "metadata": {},
   "outputs": [],
   "source": [
    "ab = np.c_[aa.ravel(), bb.ravel()]"
   ]
  },
  {
   "cell_type": "code",
   "execution_count": 31,
   "metadata": {},
   "outputs": [
    {
     "data": {
      "text/plain": [
       "array([[-1.67399434, -1.81799008],\n",
       "       [-1.31513465, -1.3226197 ],\n",
       "       [-0.95627496, -0.82724932],\n",
       "       [-0.59741527, -0.33187894],\n",
       "       [-0.23855558,  0.16349144],\n",
       "       [ 0.12030411,  0.65886183],\n",
       "       [ 0.4791638 ,  1.15423221],\n",
       "       [ 0.83802348,  1.64960259],\n",
       "       [ 1.19688317,  2.14497297],\n",
       "       [ 1.55574286,  2.64034335]])"
      ]
     },
     "execution_count": 31,
     "metadata": {},
     "output_type": "execute_result"
    }
   ],
   "source": [
    "ab"
   ]
  },
  {
   "cell_type": "code",
   "execution_count": 32,
   "metadata": {},
   "outputs": [],
   "source": [
    "c = model.predict(ab)"
   ]
  },
  {
   "cell_type": "code",
   "execution_count": 33,
   "metadata": {},
   "outputs": [
    {
     "data": {
      "text/plain": [
       "array([[0.77048886],\n",
       "       [0.8139705 ],\n",
       "       [0.8508094 ],\n",
       "       [0.8814161 ],\n",
       "       [0.9064342 ],\n",
       "       [0.9266136 ],\n",
       "       [0.94271606],\n",
       "       [0.95545506],\n",
       "       [0.9654649 ],\n",
       "       [0.97328824]], dtype=float32)"
      ]
     },
     "execution_count": 33,
     "metadata": {},
     "output_type": "execute_result"
    }
   ],
   "source": [
    "c"
   ]
  },
  {
   "cell_type": "code",
   "execution_count": 34,
   "metadata": {},
   "outputs": [
    {
     "data": {
      "text/plain": [
       "array([[0.77048886, 0.8139705 , 0.8508094 , 0.8814161 , 0.9064342 ,\n",
       "        0.9266136 , 0.94271606, 0.95545506, 0.9654649 , 0.97328824]],\n",
       "      dtype=float32)"
      ]
     },
     "execution_count": 34,
     "metadata": {},
     "output_type": "execute_result"
    }
   ],
   "source": [
    "c.reshape(aa.shape)"
   ]
  },
  {
   "cell_type": "code",
   "execution_count": 35,
   "metadata": {},
   "outputs": [
    {
     "name": "stdout",
     "output_type": "stream",
     "text": [
      "(1, 10)\n"
     ]
    }
   ],
   "source": [
    "print(aa.shape)"
   ]
  },
  {
   "cell_type": "code",
   "execution_count": 36,
   "metadata": {},
   "outputs": [
    {
     "data": {
      "text/plain": [
       "array([[-1.67399434, -1.31513465, -0.95627496, -0.59741527, -0.23855558,\n",
       "         0.12030411,  0.4791638 ,  0.83802348,  1.19688317,  1.55574286]])"
      ]
     },
     "execution_count": 36,
     "metadata": {},
     "output_type": "execute_result"
    }
   ],
   "source": [
    "aa"
   ]
  },
  {
   "cell_type": "code",
   "execution_count": null,
   "metadata": {},
   "outputs": [],
   "source": []
  }
 ],
 "metadata": {
  "kernelspec": {
   "display_name": "Python 3",
   "language": "python",
   "name": "python3"
  },
  "language_info": {
   "codemirror_mode": {
    "name": "ipython",
    "version": 3
   },
   "file_extension": ".py",
   "mimetype": "text/x-python",
   "name": "python",
   "nbconvert_exporter": "python",
   "pygments_lexer": "ipython3",
   "version": "3.6.6"
  }
 },
 "nbformat": 4,
 "nbformat_minor": 2
}
